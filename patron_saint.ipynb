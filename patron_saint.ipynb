{
 "cells": [
  {
   "cell_type": "code",
   "execution_count": 5,
   "metadata": {},
   "outputs": [
    {
     "data": {
      "application/javascript": "// Define a global color variable\nconst mainColor = '#9DAE38'; //LightSkyBlue';\n\n// Apply the color globally using CSS\ndocument.documentElement.style.setProperty('--main-color', mainColor);\n\n// Set output text color\ndocument.styleSheets[0].insertRule('body { color: var(--main-color) !important; }', 0);\n",
      "text/plain": [
       "<IPython.core.display.Javascript object>"
      ]
     },
     "metadata": {},
     "output_type": "display_data"
    }
   ],
   "source": [
    "%%javascript\n",
    "// Define a global color variable\n",
    "const mainColor = '#9DAE38'; //LightSkyBlue';\n",
    "\n",
    "// Apply the color globally using CSS\n",
    "document.documentElement.style.setProperty('--main-color', mainColor);\n",
    "\n",
    "// Set output text color\n",
    "document.styleSheets[0].insertRule('body { color: var(--main-color) !important; }', 0);\n"
   ]
  },
  {
   "cell_type": "code",
   "execution_count": 4,
   "metadata": {},
   "outputs": [
    {
     "name": "stdout",
     "output_type": "stream",
     "text": [
      "祖師爺\n",
      "Patron Saint\n"
     ]
    }
   ],
   "source": [
    "print('祖師爺')\n",
    "print('Patron Saint')"
   ]
  },
  {
   "cell_type": "markdown",
   "metadata": {},
   "source": [
    "<br><br>\n",
    "<div style=\"font-family: 'Gen Jyuu Gothic Monospace Medium', 'Noto Sans TC', 'Inconsolata';  font-size: 700%; font-weight: 700; text-align: center; color: var(--main-color);\">\n",
    "祖師爺\n",
    "</div>\n",
    "<br>\n",
    "<div style=\"font-size: 300%; color: #4938ae; text-align: center; font-weight: 600;\">\n",
    "IT行業各個職位的「保護神」\n",
    "</div>\n",
    "<br>\n"
   ]
  },
  {
   "cell_type": "markdown",
   "metadata": {},
   "source": [
    "||<font color=\"e4ba4e\"><center>ChatGPT|<font color=\"#4881ea\"><center>Claude|<font color=\"#c969c9\"><center>DeepSeek|<font color=\"#4fe34f\"><center>Grok|<font color=\"#ff8533\"><center>Gemini|\n",
    "|--|--|--|--|--|--|\n",
    "|<font color=\"#CEDCC6\">A) 管理與決策類|\n",
    "|<font color=\"85adad\">01: 資訊長(CIO)|<font color=\"#e4ba4e\">晏嬰</font> (？–前500年)：春秋時齊國名相，以聰明機智和精準判斷著稱，能綜觀全局，符合CIO的職責。|<font color=\"#4881ea\">司馬遷</font> (前145-前87年) 作为《史记》的作者，司馬遷收集、整理和管理了大量历史信息，相当于古代的信息总管。他不仅系统地组织了信息，还确保了关键历史数据的保存和传承，这与现代CIO管理企业信息资产的角色非常相似。|<font color=\"#c969c9\">張衡</font> (東漢) 發明渾天儀與地動儀，擅長數據收集與天文曆法整合，體現資訊統籌能力。|<font color=\"#4fe34f\">諸葛亮</font> (181-234) 理由：資訊長需統籌全局、制定策略，諸葛亮以卓越的謀略和組織能力聞名，尤其在《隆中對》中展現了長遠規劃與資源整合的才能，堪稱古代的「資訊策略大師」。|<font color=\"#ff8533\">管仲</font>：春秋時期政治家，擅長治國理政，能有效管理國家資源，與資訊長的角色相似。|\n",
    "|<font color=\"85adad\">02: 技術長(CTO)|<font color=\"#e4ba4e\">墨子</font> (前470–前391年)：墨子精通光學、力學與城防技術，是古代技術開發與工程應用的代表人物。|<font color=\"#4881ea\">張衡</font> (78-139年) 作为东汉著名的科学家和发明家，張衡发明了世界上第一台地震仪\"候风地动仪\"，并在天文、数学等多个技术领域有所成就。他的创新精神和技术前瞻性，正符合现代CTO的角色定位。|<font color=\"#c969c9\">墨子</font> (戰國) 先秦科技先驅，提出光學、力學理論，並設計守城器械，代表技術創新與實踐。|<font color=\"#4fe34f\">張衡</font> (78-139) 理由：技術長負責技術創新，張衡是東漢著名科學家，發明了地動儀和渾天儀，展現了深厚的技術創造力與實踐能力。|<font color=\"#ff8533\">張衡</font>：東漢時期科學家，在天文、機械等多方面有傑出成就，體現技術創新。|\n",
    "|<font color=\"85adad\">03: 創意總監(creative director)|<font color=\"#e4ba4e\">顧愷之</font> (約345–406年)：東晉畫家與藝術家，擅長創意與視覺設計，影響後世深遠。|<font color=\"#4881ea\">李白</font> (701-762年) 唐代伟大诗人李白的创造力和想象力无与伦比，他打破常规的诗歌风格和独特的艺术表现手法，体现了创意总监需要的创新能力和艺术灵感。|<font color=\"#c969c9\">顧愷之</font> (東晉) 「畫絕」之稱，強調「傳神寫照」，其藝術創造力可類比現代視覺創意。|<font color=\"#4fe34f\">李白</font> (701-762) 理由：創意總監需具備想像力與藝術性，李白作為唐代詩仙，以其奔放的創意和文學成就聞名，象徵創意靈感的源泉。|<font color=\"#ff8533\">顧愷之</font>：東晉畫家，畫作充滿創意與想像力，為藝術領域的創新者。|\n",
    "|<font color=\"#CEDCC6\">B) 系統與架構類|\n",
    "|<font color=\"85adad\">04: 架構師(architect)|<font color=\"#e4ba4e\">李春</font> (生卒不詳，約7世紀)：隋代橋梁大師，建造「趙州橋」，中國最早的石拱橋，結構精妙，展現架構設計的頂尖智慧。|<font color=\"#4881ea\">李春</font> (7世纪) 隋唐时期的著名建筑师，赵州桥的设计者。赵州桥是世界上最早的石拱桥之一，其设计展现了卓越的建筑学知识和系统架构能力，这与现代IT架构师需要设计稳定、高效系统的职责相符。|<font color=\"#c969c9\">李春</font> (隋代) 趙州橋設計者，其拱橋結構跨越千年仍穩固，象徵系統架構的長遠規劃。|<font color=\"#4fe34f\">李冰</font> (約公元前 3 世紀) 理由：架構師設計系統結構，李冰主持修建都江堰，展現了卓越的工程設計與系統規劃能力，是古代水利架構的典範。|<font color=\"#ff8533\">魯班</font>：春秋時期魯國工匠，被譽為「中國工匠之祖」，精通建築、機械，設計出許多巧妙的工程結構。|\n",
    "|<font color=\"85adad\">05: 資安工程師(security engineer)|<font color=\"#e4ba4e\">孫武</font> (約前545–前470年)：《孫子兵法》強調戰略防禦與攻擊，安全防護策略與現代資安概念相符。|<font color=\"#4881ea\">孫武</font> (前544年-前470年) 《孙子兵法》的作者，其\"知己知彼，百战不殆\"的理念与现代网络安全防御理念高度一致。他强调的防御策略、风险评估和先发制人的安全思想，正是现代资安工程师工作的核心。|<font color=\"#c969c9\">孫武</font> (春秋) 《孫子兵法》強調「知己知彼，百戰不殆」，契合安全防禦的戰略思維。|<font color=\"#4fe34f\">孫武</font> (約公元前 544-496) 理由：資安工程師專注防禦與策略，孫子著《孫子兵法》，強調情報、防守與應變，與資安保護的核心理念契合。|<font color=\"#ff8533\">墨子</font>：春秋時期思想家、科學家，擅長防禦工事與機關術，是古代的安全專家。|\n",
    "|<font color=\"85adad\">06: 專案經理(project manager)|<font color=\"#e4ba4e\">郭守敬</font> (1231–1316年)：元代天文學家，主持大規模水利與曆法改革計畫，精通資源調配與專案管理。|<font color=\"#4881ea\">鄭國</font> (春秋时期) 春秋时期著名的水利工程师，主持了\"鄭國渠\"等大型水利工程的建设。他能够协调大量人力物力，按时完成复杂项目，展现了卓越的项目管理能力。|<font color=\"#c969c9\">大禹</font> (夏朝) 以系統性方法治水，劃分九州、協調資源，展現大型專案管理能力。|<font color=\"#4fe34f\">韓信</font> (約公元前 231-196) 理由：專案經理需協調資源、掌控進度，韓信以軍事指揮的精準與高效聞名，如「背水一戰」，展現了卓越的項目管理能力。|<font color=\"#ff8533\">孫武</font>：春秋時期軍事家，著有《孫子兵法》，強調計劃、組織與執行。|\n",
    "|<font color=\"85adad\">07: 產品經理(product manager)|<font color=\"#e4ba4e\">李冰</font> (生卒不詳，約前3世紀)：都江堰水利工程的設計者，產品導向思維極強，考量實用性、可持續性。|<font color=\"#4881ea\">沈括</font> (1031-1095年) 北宋科学家，《梦溪笔谈》作者。他不仅有广博的知识，还能将科学理论与实际应用结合，改进各种工具和技术，这与产品经理需要理解市场、技术和用户需求的角色很匹配|<font color=\"#c969c9\">范蠡</font> (春秋) 「商聖」擅長洞察需求，從政轉商皆能精準定位市場，符合產品策略特質。|<font color=\"#4fe34f\">沈括</font> (1031-1095) 理由：產品經理需洞察需求並推動實現，沈括撰寫《夢溪筆談》，涵蓋科學技術與實用知識，展現了需求分析與產品化的能力。|<font color=\"#ff8533\">王禎</font>：元朝農學家、活字印刷術之改進者。著有《農書》，對農業生產有詳細的規劃。|\n",
    "|<font color=\"#CEDCC6\">C)系統開發與測試類|\n",
    "|<font color=\"85adad\">08: 系統分析師(system analyst)|<font color=\"#e4ba4e\">劉徽</font> (約225–295年)：東晉數學家，對數學與計算體系深入分析，與系統分析職能相似。|<font color=\"#4881ea\">劉徽</font> (約225-295年) 魏晋数学家，《九章算术注》作者。他能够分析复杂的数学系统，并提出简化和改进的方法，这与系统分析师需要分析复杂系统并优化流程的职责相符。|<font color=\"#c969c9\">沈括</font> (北宋) 《夢溪筆談》跨學科分析自然與技術現象，具備系統性邏輯推演能力。|<font color=\"#4fe34f\">劉徽</font> (約 225-295) 理由：系統分析師需精於邏輯與分析，劉徽是魏晉數學家，對《九章算術》的注釋展現了系統化的分析能力。|<font color=\"#ff8533\">劉徽</font>：三國時期數學家，提出割圓術，展現邏輯分析與問題解決能力。|\n",
    "|<font color=\"85adad\">09: 系統設計師(system designer)|<font color=\"#e4ba4e\">沈括</font> (1031–1095年)：北宋科學家，提出多項系統設計概念，如水鐘、地形測量。|<font color=\"#4881ea\">畢昇</font> (約970-1051年) 北宋发明家，活字印刷术的发明者。他设计的系统将复杂的印刷过程模块化，提高了效率和灵活性，与现代系统设计师的工作理念一致。|<font color=\"#c969c9\">李冰</font> (戰國) 都江堰水利工程設計者，通過分水、排沙等模組化解決複雜系統問題。|<font color=\"#4fe34f\">祖沖之</font> (429-500) 理由：系統設計師專注結構設計，祖沖之精通數學與天文，計算出圓周率並設計曆法，體現了系統設計的精髓。|<font color=\"#ff8533\">馬鈞</font>：三國時期機械工程師，以精巧的機械設計與製造，體現系統設計能力。|\n",
    "|<font color=\"85adad\">10: 研發工程師(RD engineer)|<font color=\"#e4ba4e\">張衡</font> (78–139年)：東漢科學家，發明地動儀、渾天儀，開創性極強。|<font color=\"#4881ea\">祖冲之</font> (429-500年) 南北朝数学家、天文学家。他计算圆周率的精确值 (3.1415926与3.1415927之间) ，并发明了多种天文仪器，展现了研发工程师需要的创新能力和技术突破。|<font color=\"#c969c9\">蔡倫</font> (東漢) 改良造紙術，突破技術瓶頸並推動知識傳播，象徵研發創新精神。|<font color=\"#4fe34f\">蔡倫</font> (63-121) 理由：研發工程師聚焦創新，蔡倫改進造紙術，對技術研發與應用有深遠影響。|<font color=\"#ff8533\">祖沖之</font>：南北朝時期科學家，在數學、天文方面有卓越成就，體現技術研發能力。|\n",
    "|<font color=\"85adad\">11: 程式設計師(programmer)|<font color=\"#e4ba4e\">朱世杰</font> (約1249–1314年)：元代數學家，擅長數學推理與演算法，與程式邏輯思維類似。|<font color=\"#4881ea\">徐光啟</font> (1562-1633年) 明代科学家，翻译并引进了西方数学和天文学知识。他能够理解和转译复杂的数学算法，这与程序设计师将逻辑转化为代码的工作有相似之处。|<font color=\"#c969c9\">李冶</font> (金元) 數學家，創立「天元術」代數體系，以符號化語言解決複雜問題，類比編碼邏輯。|<font color=\"#4fe34f\">黃道婆</font> (約 1245-1330) 理由：程式設計師需編織邏輯，黃道婆改進棉紡技術，類比於編寫「技術程式」的過程，且年代較早。|<font color=\"#ff8533\">秦九韶</font>：南宋數學家，著有《數書九章》，其中有很多計算公式。|\n",
    "|<font color=\"85adad\">12: 資料庫管理師(DBA)|<font color=\"#e4ba4e\">劉向</font> (前77–前6年)：西漢學者，負責整理《四庫全書》的前身《七略》，與現代資料管理相似。|<font color=\"#4881ea\">劉向</font> (前77-前6年) 西汉学者，主持整理了皇家图书馆的典籍。他对文献的分类、整理和保存工作，与现代数据库管理员管理和优化数据结构的职责相似。|<font color=\"#c969c9\">劉歆</font> (西漢) 整理先秦典籍並首創圖書分類法「七略」，建立系統性資料管理框架。|<font color=\"#4fe34f\">司馬遷</font> (約公元前 145-86) 理由：資料庫管理師負責數據整理與存取，司馬遷編撰《史記》，系統化管理歷史數據，堪稱古代「資料庫專家」。|<font color=\"#ff8533\">畢昇</font>：北宋時期發明家，發明活字印刷術，是資料管理與組織的先驅。|\n",
    "|<font color=\"85adad\">13: 品質保證工程師(QA)|<font color=\"#e4ba4e\">華佗</font> (約145–208年)：精通醫術與外科手術，對應QA的精確度與驗證流程。|<font color=\"#4881ea\">顧炎武</font> (1613-1682年) 明末清初学者，提倡实事求是的学术态度。他严谨的考证方法和对知识真伪的鉴别能力，与QA工程师测试和验证软件质量的工作相符。|<font color=\"#c969c9\">商鞅</font> (戰國) 推行「法度嚴明」的變法，強調標準化與執行力，符合QA的嚴格檢驗原則。|<font color=\"#4fe34f\">包拯</font> (999-1062) 理由：QA 確保品質無誤，包拯以公正嚴明著稱，象徵品質監督的嚴格性。|<font color=\"#ff8533\">閻若璩</font>：清初經學家，考證《古文尚書》辨偽，體現嚴謹的考證精神。|\n",
    "|<font color=\"#CEDCC6\">D) 數據與人工智慧類|\n",
    "|<font color=\"85adad\">14: 商業分析師(business analyst)|<font color=\"#e4ba4e\">范蠡</font> (前536–前448年)：春秋時期吳越國商賈，善於經濟分析與商業策略。|<font color=\"#4881ea\">管仲</font> (約前723-前645年) 春秋时期杰出的政治家和经济思想家。他分析各种经济现象，制定相应的政策，促进齐国经济繁荣，这与商业分析师分析市场趋势和商业数据的工作相似。|<font color=\"#c969c9\">管仲</font> (春秋) 提出「官山海」經濟政策，透過數據 (人口、資源) 制定商業戰略。|<font color=\"#4fe34f\">范蠡</font> (約公元前 536-448) 理由：商業分析師需洞察市場，范蠡輔佐越王勾踐復國後從商，展現了商業洞察與分析能力。|<font color=\"#ff8533\">范蠡</font>：春秋時期政治家、商人，商業頭腦敏銳，善於分析市場與制定策略。|\n",
    "|<font color=\"85adad\">15: 大數據分析工程師(big data analyst)|<font color=\"#e4ba4e\">李淳風</font> (602–670年)：唐代天文學家，運用大量數據進行預測分析。|<font color=\"#4881ea\">班固</font> (32-92年) 东汉史学家，《汉书》作者。他收集和分析了大量的历史数据，并从中提取有价值的信息，这与大数据分析工程师从海量数据中提取洞见的工作相似。|<font color=\"#c969c9\">司馬遷</font> (西漢) 《史記》整合千年史料，透過龐大數據歸納歷史規律，具備宏觀分析視野。|<font color=\"#4fe34f\">魏徵</font> (580-643) 理由：大數據分析師處理龐大資訊，魏徵以直言進諫聞名，善於從複雜資訊中提煉建議，類比大數據分析。|<font color=\"#ff8533\">郭守敬</font>：元朝天文學家、數學家和水利學家，編制授時曆，需要大量天文觀測和數據分析。|\n",
    "|<font color=\"85adad\">16: 機器學習/深度學習工程師(ML/DL engineer)|<font color=\"#e4ba4e\">黃帝</font> (傳說時期)：相傳發明八卦、文字與醫學，被視為人類智慧演化的先驅。|<font color=\"#4881ea\">王夫之</font> (1619-1692年) 明末清初哲学家。虽然王夫之生活在AI出现前几百年，但他的\"理势论\" (认为事物发展有其内在规律) 与机器学习的基本理念相似。由于中国古代无直接对应人物，他是比较接近的思想家。|<font color=\"#c969c9\">祖沖之</font> (南朝) 精算圓周率至小數第七位，並首創「綴術」逼近算法，奠基數學模型思維。|<font color=\"#4fe34f\">墨子</font> (約公元前 468-376) 理由：AI 工程師探索智能與邏輯，墨子提出兼愛與科學思想，其光學與機械研究類比於早期智能探索。|<font color=\"#ff8533\">賈憲</font>：北宋數學家，創造賈憲三角，為二項式定理係數在中國的最早記載。|\n",
    "|<font color=\"#CEDCC6\">E) 遊戲與設計類|\n",
    "|<font color=\"85adad\">17: 遊戲設計師(game designer)|<font color=\"#e4ba4e\">韓非</font> (約前280–前233年)：其法律邏輯與策略設計可對應遊戲規則與機制設計。|<font color=\"#4881ea\">李清照</font> (1084-約1155年) 宋代女词人，也精通音律和围棋等游戏。她创作的词作蕴含丰富的情感和故事，这种叙事能力和创造性思维与游戏设计师的创作过程相似。|<font color=\"#c969c9\">李隆基</font> (唐玄宗) 創立梨園推動戲劇與娛樂發展，其對沉浸式體驗的追求可類比遊戲設計。|<font color=\"#4fe34f\">莊子</font> (約公元前 369-286) 理由：遊戲設計師需創意與想像，莊子以《莊子》一書展現奇思妙想，適合遊戲世界的構建。|<font color=\"#ff8533\">馬吊發明者</font>：晚明，創造出中國牌戲的始祖，體現遊戲設計能力。|\n",
    "|<font color=\"85adad\">18: 遊戲後製人員(post-production crew)|<font color=\"#e4ba4e\">司馬遷</font> (前145–前86年)：《史記》編撰者，像後期製作人員統整素材、增強故事呈現。|<font color=\"#4881ea\">陸機</font> (261-303年) 西晋文学家，《文赋》作者。他精通文字修饰和润色，能够提升作品的艺术性，这与游戏后期制作人员完善游戏视觉和音效的工作相似。|<font color=\"#c969c9\">宋應星</font> (明末) 《天工開物》詳錄工藝細節，重視技術流程的完整性，契合後期製作精神。|<font color=\"#4fe34f\">王羲之</font> (303-361) 理由：後製人員精修作品，王羲之書法追求完美，類比後期加工的藝術性。|<font color=\"#ff8533\">曹植</font>：三國時期文學家，對於文學作品的精雕細琢，體現對細節的追求。|\n",
    "|<font color=\"#CEDCC6\">F) 網絡與基礎設施|\n",
    "|<font color=\"85adad\">19: 資訊系統管理師(MIS)|<font color=\"#e4ba4e\">王莽</font> (前45–23年)：嘗試推行大規模社會制度變革，重視資訊管理。|<font color=\"#4881ea\">秦叔寶</font> (571-638年) 唐朝名将，负责管理和维护大型军事系统。他确保信息传递准确无误，并维护军队的正常运转，这与MIS确保企业信息系统正常运行的职责相似。|<font color=\"#c969c9\">張良</font> (西漢) 「運籌帷幄」典範，善於整合情報與資源，類似資訊系統的調度者。|<font color=\"#4fe34f\">班固</font> (32-92) 理由：資訊系統管理師維護系統運作，班固編撰《漢書》，系統化管理歷史資訊，類比 MIS 的角色。|<font color=\"#ff8533\">蕭何</font>：西漢時期政治家，負責管理後勤與行政事務，體現系統管理能力。|\n",
    "|<font color=\"85adad\">20: 網路工程師(network engineer)|<font color=\"#e4ba4e\">郵驛制度創立者</font> (戰國時代)：古代通訊網絡的建立者，類似現代網路架構師。|<font color=\"#4881ea\">張騫</font> (前164年-前114年) 西汉外交家，开辟丝绸之路的先驱。他建立了东西方的通信网络，促进了信息和物资的流通，这与网络工程师建设数据通信网络的工作有异曲同工之妙。|<font color=\"#c969c9\">張騫</font> (西漢) 開拓絲綢之路建立跨域連接，象徵網路架構的互通性與拓撲設計。|<font color=\"#4fe34f\">秦九韶</font> (1202-1261) 理由：網路工程師構築連接，秦九韶研究數學算法，奠定了計算基礎，象徵網路結構的數學支撐。|<font color=\"#ff8533\">張騫</font>：西漢時期外交家，開闢絲綢之路，促進東西方交流，類似網路連接。|\n",
    "|<font color=\"85adad\">21: 硬體工程師(hardware engineer)|<font color=\"#e4ba4e\">龔自珍</font> (1792–1841年)：改良火器技術，涉獵多領域科學研究。|<font color=\"#4881ea\">馬鈞</font> (約公元220-265年) 三国时期著名的机械发明家，发明了指南车、水力织布机等。他对物理机械的深刻理解和创新，与硬件工程师设计和优化计算机硬件的工作相似。|<font color=\"#c969c9\">魯班</font> (春秋) 木匠祖師，發明墨斗、鋸子等工具，代表實體技術的精密製造傳統。|<font color=\"#4fe34f\">魯班</font> (約公元前 507-444) 理由：硬體工程師專注實體技術，魯班作為木匠祖師，發明多種工具，與硬體創造契合。|<font color=\"#ff8533\">蔡倫</font>：東漢時期發明家，改進造紙術，體現了硬體工程師在材料和工程方面的專業能力。|\n",
    "|<font color=\"#CEDCC6\">G) Web開發|\n",
    "|<font color=\"85adad\">22: UI/UX設計師(UI/UX designer)|<font color=\"#e4ba4e\">王羲之</font> (303–361年)：書法與美學大師，影響中國審美標準。|<font color=\"#4881ea\">唐寅</font> (1470-1524年) 明代画家、文学家。他的绘画作品既有美感又考虑观者体验，注重细节和整体布局，这与UI/UX设计师需要平衡美学和用户体验的工作相似。|<font color=\"#c969c9\">王羲之</font> (東晉) 書聖「兼通諸體」且重視實用與美感平衡，類比使用者體驗的極致追求。|<font color=\"#4fe34f\">顧愷之</font> (約 344-406) 理由：UI/UX 重視使用者體驗，顧愷之是東晉畫家，其作品注重美感與觀賞體驗。|<font color=\"#ff8533\">計成</font>：明代園林設計師，著有《園冶》，強調人與自然和諧，體現使用者體驗設計。|\n",
    "|<font color=\"85adad\">23: 前端工程師(front-end engineer)|<font color=\"#e4ba4e\">曹沖</font> (196–208年)：曹操之子，以機智與創新著稱，如「稱象」故事。|<font color=\"#4881ea\">蔡倫</font> (63-121年) 东汉官员，造纸术改进者。他对当时\"界面材料\" (纸) 的革新，使信息展示更加友好，这与前端工程师优化用户界面的工作有相似之处。|<font color=\"#c969c9\">李漁</font> (明末) 《閒情偶寄》關注生活器物細節，強調「宜人」設計，契合前端介面思維。|<font color=\"#4fe34f\">歐陽修</font> (1007-1072) 理由：前端工程師打造介面，歐陽修以文學修辭見長，類比前端的「外觀呈現」。|<font color=\"#ff8533\">李誡</font>：北宋著名建築師，《營造法式》的作者，對於建築外觀的設計成就卓越，為當時官方建築的規範。|\n",
    "|<font color=\"85adad\">24: 後端工程師(back-end engineer)|<font color=\"#e4ba4e\">魯班</font> (約前507–前444年)：木工與建築大師，擅長結構設計與實用開發。|<font color=\"#4881ea\">杜甫</font> (712-770年) 唐代诗人，被称为\"诗圣\"。他的诗作内涵丰富，结构严谨，背后有深厚的文学功底支撑，这与后端工程师构建稳健、高效的服务器架构的工作相似。|<font color=\"#c969c9\">郭守敬</font>(元朝) 天文儀器機械結構設計，隱性系統支撐。|<font color=\"#4fe34f\">荀子</font> (約公元前 313-238) 理由：後端工程師支撐核心邏輯，荀子強調理性與系統思想，類比後端基礎。|<font color=\"#ff8533\">王孝通</font>：唐代數學家，著有《緝古算經》，在幾何學和代數方程方面有傑出貢獻。|\n",
    "|<font color=\"85adad\">25: 全端工程師(full stack engineer)|<font color=\"#e4ba4e\">魏徵</font> (580–643年)：唐太宗的重要謀臣，能夠處理多種事務，貫通全局。|<font color=\"#4881ea\">諸葛亮</font> (181-234年) 三国时期政治家、军事家，精通天文地理、兵法策略等多个领域。他的全面才能和解决问题的能力，与全栈工程师需要掌握前后端技术并能独立完成项目的特点相符。|<font color=\"#c969c9\">蘇軾</font> (北宋) 詩詞書畫的「前端」美學創造 + 水利工程的「後端」系統設計，象徵全端整合。|<font color=\"#4fe34f\">張騫</font> (約公元前 164-114) 理由：全端工程師通曉前後端，張騫開拓絲綢之路，展現了全面的能力與銜接東西的角色。|<font color=\"#ff8533\">沈括</font>：北宋天文、地理學家，在多個領域有成就，體現全端工程師的綜合能力。|\n",
    "|<font color=\"#CEDCC6\">H) 後勤、業務與服務|\n",
    "|<font color=\"85adad\">26: 技術寫作人員(technical writer)|<font color=\"#e4ba4e\">陸九淵</font> (1139–1193年)：宋代理學家，著作解釋深奧理論，類似技術文件編寫。|<font color=\"#4881ea\">許慎</font> (約58-147年) 《說文解字》作者，清晰系統地解釋漢字結構。|<font color=\"#c969c9\">許慎</font> (東漢) 《說文解字》系統化解析文字結構，以嚴謹術語建立知識傳遞標準。|<font color=\"#4fe34f\">屈原</font> (約公元前 340-278) 理由：技術寫作需清晰表達，屈原以《離騷》展現文學才華，象徵技術文檔的精準與優美。|<font color=\"#ff8533\">酈道元</font>：北魏地理學家，著有《水經注》，以詳細的地理描述和豐富的文化內涵聞名，體現了技術寫作人員在技術文件撰寫方面的能力。|\n",
    "|<font color=\"85adad\">27: 業務經理(sales manager)|<font color=\"#e4ba4e\">胡雪巖</font> (1823–1885年)：晚清商人，精通市場與銷售策略。|<font color=\"#4881ea\">范蠡</font> (前536-前448年) 春秋末期政治家、商人。從政後成功經商，善於識別市場機會與制定商業策略。|<font color=\"#c969c9\">呂不韋</font> (戰國) 「奇貨可居」商業策略家，擅長資源整合與市場擴張，符合業務拓展需求。|<font color=\"#4fe34f\">白圭</font> (約公元前 4 世紀) 理由：業務經理擅長市場拓展，白圭是戰國商人，提出「人棄我取，人取我與」的經營策略。|<font color=\"#ff8533\">白圭</font>：戰國時期著名的商業理論家，總結出經商致富的理論，被後世商人奉為經典。|\n",
    "|<font color=\"85adad\">28: 教育訓練工程師(training instructor)|<font color=\"#e4ba4e\">孔子</font> (前551–前479年)：儒家創始人，教育界鼻祖。|<font color=\"#4881ea\">孔子</font> (前551-前479年) 偉大教育家，強調因材施教與實踐應用。|<font color=\"#c969c9\">孔子</font> (春秋) 「因材施教」的教育家，其教學方法論至今影響深遠。|<font color=\"#4fe34f\">孔子</font> (公元前 551-479) 理由：教育訓練傳授知識，孔子作為「萬世師表」，是教育的終極代表。|<font color=\"#ff8533\">孔子</font>：春秋時期教育家，教育理念與教學方法影響深遠。|\n",
    "|<font color=\"85adad\">29: 溝通協調工程師(bridge system engineer)|<font color=\"#e4ba4e\">蘇秦</font> (約前380–前284年)：縱橫家代表，擅長外交協商與談判。|<font color=\"#4881ea\">劉備</font> (161-223年) 三国时期蜀汉开国皇帝，善於處理人際關係，協調不同背景人才共事。|<font color=\"#c969c9\">蘇秦</font> (戰國) 縱橫家代表，以「合縱連橫」促成多方協作，類似系統間介面溝通。|<font color=\"#4fe34f\">蘇秦</font> (約公元前 380-284) 理由：溝通協調需聯繫各方，蘇秦以合縱策略聯合六國，展現協調能力。|<font color=\"#ff8533\">蘇秦</font>：戰國時期縱橫家，擅長遊說與協調，體現溝通協調能力。|\n",
    "|<font color=\"85adad\">30: 客服工程師(customer service engineer)|<font color=\"#e4ba4e\">包拯</font> (999–1062年)：北宋清官，為百姓解決問題，維護公平正義。|<font color=\"#4881ea\">白居易</font> (772-846年) 唐代詩人，關注民生，理解並回應普通人需求的詩人|<font color=\"#c969c9\">子產</font> (春秋) 鄭國名相，主張「不毀鄉校」傾聽民意，重視使用者回饋與問題解決。|<font color=\"#4fe34f\">扁鵲</font> (約公元前 407-310) 理由：客服工程師解決問題，扁鵲以醫術救人，診斷與服務的精神與客服相符。|<font color=\"#ff8533\">扁鵲</font>：春秋戰國時期名醫，高超醫術與關懷病人，體現解決問題與服務能力。|"
   ]
  },
  {
   "cell_type": "markdown",
   "metadata": {},
   "source": [
    "||<font color=\"e4ba4e\"><center>ChatGPT|<font color=\"#4881ea\"><center>Claude|<font color=\"#c969c9\"><center>DeepSeek|<font color=\"#4fe34f\"><center>Grok|<font color=\"#ff8533\"><center>Gemini|\n",
    "|--|--|--|--|--|--|\n",
    "|<font color=\"#CEDCC6\">A) 管理與決策類|\n",
    "|<font color=\"85adad\">01: 資訊長(CIO)|<font color=\"#e4ba4e\">孫子</font> (c. 545–470 BC, China)→ His strategic thinking in The Art of War aligns with modern CIOs who oversee IT strategy.|<font color=\"#4881ea\">Gottfried Wilhelm Leibniz</font> (1646-1716)German polymath who developed binary arithmetic and envisioned a universal calculation machine. His systematic organization of knowledge and information makes him an ideal progenitor for the Chief Information Officer role.|<font color=\"#c969c9\">Imhotep</font>|<font color=\"#4fe34f\"></font>|<font color=\"#ff8533\">管仲</font> (China, ~720 BC - 645 BC): His administrative and economic skills are timeless.|\n",
    "|<font color=\"85adad\">02: 技術長(CTO)|<font color=\"#e4ba4e\">阿基米德</font> (Archimedes, c. 287–212 BC, Greece)→ A polymath who developed mechanical inventions and engineering theories, much like a modern CTO.|<font color=\"#4881ea\">张衡</font> (78-139)Chinese polymath who invented the seismograph and numerous astronomical devices, demonstrating the technical leadership and innovation central to a CTO's role.|<font color=\"#c969c9\">墨子</font>|<font color=\"#4fe34f\"></font>|<font color=\"#ff8533\">Archimedes</font> (Greece, ~287 BC - 212 BC): His inventions and scientific principles laid foundations for many technologies.|\n",
    "|<font color=\"85adad\">03: 創意總監(creative director)|<font color=\"#e4ba4e\">Leonardo da Vinci</font> (1452–1519, Italy)→ A master artist, engineer, and designer who pioneered creative and technical innovation.|<font color=\"#4881ea\">Leonardo da Vinci</font> (1452-1519)Italian Renaissance polymath whose creative vision across multiple disciplines embodies the role of a Creative Director who must blend aesthetic sensibility with technical possibilities.|<font color=\"#c969c9\">Phidias</font>|<font color=\"#4fe34f\"></font>|<font color=\"#ff8533\">Leonardo da Vinci</font> (Italy, 1452 - 1519): An unparalleled polymath whose artistic and inventive genius remains influential.|\n",
    "|<font color=\"#CEDCC6\">B) 系統與架構類|\n",
    "|<font color=\"85adad\">04: 架構師(architect)|<font color=\"#e4ba4e\">Imhotep</font> (Imhotep, c. 2650–2600 BC, Egypt)→ The earliest recorded architect, responsible for the Step Pyramid, symbolizing IT system architecture.|<font color=\"#4881ea\">Imhotep</font> (c. 2650-2600 BCE)Egyptian polymath who designed the Step Pyramid of Djoser, the first major stone structure in history. His architectural innovations mirror the system architect's role in designing scalable, robust technical infrastructures.|<font color=\"#c969c9\"></font>|<font color=\"#4fe34f\"></font>|<font color=\"#ff8533\">Imhotep</font> (Egypt, ~27th century BC): Credited with designing the Step Pyramid of Djoser, a monumental architectural achievement.|\n",
    "|<font color=\"85adad\">05: 資安工程師(security engineer)|<font color=\"#e4ba4e\">斯巴達王李奧尼達一世</font> (Leonidas I, c. 540–480 BC, Greece)→ His legendary defense at Thermopylae represents cybersecurity’s role in fortifying systems.|<font color=\"#4881ea\">孫武</font> (c. 544-470 BCE)Chinese military strategist whose \"Art of War\" principles remain foundational to modern security concepts, emphasizing knowing vulnerabilities and preparing defenses before attacks occur.|<font color=\"#c969c9\"></font>|<font color=\"#4fe34f\"></font>|<font color=\"#ff8533\">墨子</font> (China, ~470 BC - 391 BC): His defensive innovations and fortifications are early examples of security engineering.|\n",
    "|<font color=\"85adad\">06: 專案經理(project manager)|<font color=\"#e4ba4e\">郭守敬</font> (1231–1316, China)→ Managed large-scale engineering and astronomical projects with precision.|<font color=\"#4881ea\">Vitruvius</font> (c. 80-70 BCE - c. 15 BCE)Roman architect and engineer who established systematic approaches to complex projects, emphasizing planning, resource management, and quality control—all essential to modern project management.|<font color=\"#c969c9\"></font>|<font color=\"#4fe34f\"></font>|<font color=\"#ff8533\">孫武</font> (China, ~544 BC - 496 BC): His principles of planning and strategy in \"The Art of War\" are applicable to project management.|\n",
    "|<font color=\"85adad\">07: 產品經理(product manager)|<font color=\"#e4ba4e\">托馬斯·紐可門</font> (Thomas Newcomen, 1664–1729, England)→ Designed the first practical steam engine, balancing innovation with user needs.|<font color=\"#4881ea\">Benjamin Franklin</font> (1706-1776)American polymath who invented numerous products while understanding market needs and user requirements. His practical inventions and focus on utility reflect the product manager's role.|<font color=\"#c969c9\"></font>|<font color=\"#4fe34f\"></font>|<font color=\"#ff8533\">沈括</font> (China, 1031 - 1095): His broad observations and documentation in \"Dream Pool Essays\" reflect a product manager's comprehensive approach.|\n",
    "|<font color=\"#CEDCC6\">C)系統開發與測試類|\n",
    "|<font color=\"85adad\">08: 系統分析師(system analyst)|<font color=\"#e4ba4e\">歐幾里得</font> (Euclid, c. 300 BC, Greece)→ Defined logical mathematical structures, much like a system analyst models IT systems.|<font color=\"#4881ea\">Charles Babbage</font> (1791-1871)English mathematician who conceptualized the Analytical Engine. His ability to analyze complex problems and design systematic solutions makes him an ideal progenitor for system analysts.|<font color=\"#c969c9\"></font>|<font color=\"#4fe34f\"></font>|<font color=\"#ff8533\">Euclid</font> (Greece, ~300 BC): His \"Elements\" established a rigorous system of logical deduction.|\n",
    "|<font color=\"85adad\">09: 系統設計師(system designer)|<font color=\"#e4ba4e\">笛卡爾</font> (René Descartes, 1596–1650, France)→ Developed analytical geometry, laying groundwork for structured design thinking.|<font color=\"#4881ea\">毕昇</font> (c. 970-1051)Chinese inventor of movable type printing whose modular approach revolutionized information distribution, similar to how system designers create modular, efficient technical architectures.|<font color=\"#c969c9\"></font>|<font color=\"#4fe34f\"></font>|<font color=\"#ff8533\">Hero of Alexandria</font> (Egypt, ~10 AD - 70 AD): His inventions and mechanical designs showcase early system design principles.|\n",
    "|<font color=\"85adad\">10: 研發工程師(RD engineer)|<font color=\"#e4ba4e\">張衡</font> (78–139, China)→ Inventor of the first seismoscope, demonstrating the spirit of R&D.|<font color=\"#4881ea\">Archimedes</font> (c. 287-212 BCE)Greek mathematician, physicist, and engineer whose numerous inventions and discoveries exemplify the innovative problem-solving central to research and development engineering.|<font color=\"#c969c9\"></font>|<font color=\"#4fe34f\"></font>|<font color=\"#ff8533\">Al-Jazari</font> (Iraq, 1136–1206): His elaborate mechanical devices and automata demonstrate advanced engineering and innovation.|\n",
    "|<font color=\"85adad\">11: 程式設計師(programmer)|<font color=\"#e4ba4e\">阿達·勒芙蕾絲</font> (Ada Lovelace, 1815–1852, England)→ Wrote the first algorithm, making her the world's first programmer.|<font color=\"#4881ea\">Ada Lovelace</font> (1815-1852)English mathematician who wrote the first algorithm intended for implementation on Babbage's Analytical Engine, essentially becoming the world's first computer programmer.|<font color=\"#c969c9\"></font>|<font color=\"#4fe34f\"></font>|<font color=\"#ff8533\">Gottfried Wilhelm Leibniz</font> (Germany, 1646 - 1716): His binary system is fundamental to modern programming.|\n",
    "|<font color=\"85adad\">12: 資料庫管理師(DBA)|<font color=\"#e4ba4e\">卡德摩斯</font> (Cadmus, mythological, Greece)→ Introduced the Phoenician alphabet to Greece, akin to structuring databases.|<font color=\"#4881ea\">Callimachus of Cyrene</font> (c. 310-240 BCE)Ancient Greek poet and scholar who created the \"Pinakes,\" the first library catalog for the Library of Alexandria, establishing principles for information classification, storage, and retrieval.|<font color=\"#c969c9\"></font>|<font color=\"#4fe34f\"></font>|<font color=\"#ff8533\">畢昇</font> (China, 990 - 1051): His movable type printing system revolutionized information management.|\n",
    "|<font color=\"85adad\">13: 品質保證工程師(QA)|<font color=\"#e4ba4e\">伊本·海塞姆</font>  (Ibn al-Haytham, c. 965–1040, Iraq)→ Developed the scientific method, a foundation for QA testing.|<font color=\"#4881ea\">Frederick Winslow Taylor</font> (1856-1915)American mechanical engineer who developed scientific management principles and systematic approaches to improving efficiency and quality in manufacturing processes.|<font color=\"#c969c9\"></font>|<font color=\"#4fe34f\"></font>|<font color=\"#ff8533\">Eratosthenes</font> (Greece, ~276 BC - 194 BC), his calculation of the earths circumference required very precise measurements, and calculations, therefore displaying QA abilities.|\n",
    "|<font color=\"#CEDCC6\">D) 數據與人工智慧類|\n",
    "|<font color=\"85adad\">14: 商業分析師(business analyst)|<font color=\"#e4ba4e\">亞當·斯密</font> (Adam Smith, 1723–1790, Scotland)→ The Wealth of Nations laid the foundations for economic analysis.|<font color=\"#4881ea\">管仲</font> (c. 723-645 BCE)Chinese statesman and economist whose analyses and policies for the State of Qi demonstrated exceptional business insight and economic planning abilities.|<font color=\"#c969c9\"></font>|<font color=\"#4fe34f\"></font>|<font color=\"#ff8533\">范蠡</font> (China, ~5th century BC): His business acumen and understanding of market dynamics are legendary.|\n",
    "|<font color=\"85adad\">15: 大數據分析工程師(big data analyst)|<font color=\"#e4ba4e\">托勒密</font>  (Ptolemy, c. 100–170, Egypt/Greece)→ Created detailed celestial models based on vast astronomical data.|<font color=\"#4881ea\">Adolphe Quetelet</font> (1796-1874)Belgian astronomer, mathematician, and statistician who pioneered social statistics and developed methods to handle large data sets and identify patterns.|<font color=\"#c969c9\"></font>|<font color=\"#4fe34f\"></font>|<font color=\"#ff8533\">Claudius Ptolemy</font> (Egypt, ~100 AD - 170 AD): His astronomical observations and calculations represent early large-scale data analysis.|\n",
    "|<font color=\"85adad\">16: 機器學習/深度學習工程師(ML/DL engineer)|<font color=\"#e4ba4e\">萊布尼茨</font> (Gottfried Wilhelm Leibniz, 1646–1716, Germany)→ Developed binary logic, essential for AI and machine learning.|<font color=\"#4881ea\">Blaise Pascal</font> (1623-1662)French mathematician who created an early mechanical calculator and developed probability theory, creating a foundation for algorithmic decision-making central to machine learning.|<font color=\"#c969c9\"></font>|<font color=\"#4fe34f\"></font>|<font color=\"#ff8533\">Al-Khwarizmi</font> (Persia, ~780 - 850): His algorithms are foundational to modern computing and machine learning.|\n",
    "|<font color=\"#CEDCC6\">E) 遊戲與設計類|\n",
    "|<font color=\"85adad\">17: 遊戲設計師(game designer)|<font color=\"#e4ba4e\">魏晉南北朝圍棋發展者</font> (c. 200–600, China)→ Early developers of Go, which involves deep strategy akin to modern game design.|<font color=\"#4881ea\">Alfonso X of Castile</font> (1221-1284)Spanish king who commissioned the \"Libro de los Juegos\" (Book of Games), systematically documenting game rules and strategies similar to modern game design.|<font color=\"#c969c9\"></font>|<font color=\"#4fe34f\"></font>|<font color=\"#ff8533\">Predynastic Egyptian Senet Designers</font> (predating 2600BCE) since Senet is one of the oldest known board games.|\n",
    "|<font color=\"85adad\">18: 遊戲後製人員(post-production crew)|<font color=\"#e4ba4e\">荷馬</font> (Homer, c. 8th century BC, Greece)→ The Iliad and Odyssey were refined oral stories before written versions—like post-production!|<font color=\"#4881ea\">Georges Méliès</font> (1861-1938)French filmmaker who pioneered special effects techniques in early cinema, parallel to the finishing and polishing work of game post-production specialists.|<font color=\"#c969c9\"></font>|<font color=\"#4fe34f\"></font>|<font color=\"#ff8533\">Homer</font> (Greece, ~8th century BC): The meticulous crafting and refinement of the \"Iliad\" and \"Odyssey\" reflect post-production efforts.|\n",
    "|<font color=\"#CEDCC6\">F) 網絡與基礎設施|\n",
    "|<font color=\"85adad\">19: 資訊系統管理師(MIS)|<font color=\"#e4ba4e\">司馬遷</font>(c. 145–86 BC, China)→ Managed and documented historical information systematically in Records of the Grand Historian.|<font color=\"#4881ea\">Herman Hollerith</font> (1860-1929)American inventor who developed electromechanical tabulating machines for the 1890 US Census, exemplifying the MIS role of maintaining information systems for organizational operations.|<font color=\"#c969c9\"></font>|<font color=\"#4fe34f\"></font>|<font color=\"#ff8533\">蕭何</font> (China, ~257 BC - 193 BC): His management of logistics and administrative systems in the Han Dynasty.|\n",
    "|<font color=\"85adad\">20: 網路工程師(network engineer)|<font color=\"#e4ba4e\">塞繆爾·莫爾斯 </font> (Samuel Morse, 1791–1872, USA)→ Invented the telegraph, the precursor to modern networking.|<font color=\"#4881ea\">張騫</font> (c. 164-114 BCE)Chinese diplomat who established the Silk Road, one of history's earliest large-scale communication networks, predating other network developers.|<font color=\"#c969c9\"></font>|<font color=\"#4fe34f\"></font>|<font color=\"#ff8533\">Cyrus the Great</font> (Persia, ~600 BC - 530 BC): His vast network of roads and communication systems facilitated empire-wide connectivity.|\n",
    "|<font color=\"85adad\">21: 硬體工程師(hardware engineer)|<font color=\"#e4ba4e\">尼古拉·特斯拉</font> (Nikola Tesla, 1856–1943, Serbia/USA)→ Pioneered electrical hardware and wireless communication.|<font color=\"#4881ea\">Heron of Alexandria</font> (c. 10-70 CE)Greek mathematician and engineer who created numerous automated devices powered by hydraulics, wind, and steam, demonstrating the hardware engineer's focus on physical systems.|<font color=\"#c969c9\"></font>|<font color=\"#4fe34f\"></font>|<font color=\"#ff8533\">蔡倫</font> (China, ~50 AD - 121 AD): His refinement of papermaking significantly impacted information technology.|\n",
    "|<font color=\"#CEDCC6\">G) Web開發|\n",
    "|<font color=\"85adad\">22: UI/UX設計師(UI/UX designer)|<font color=\"#e4ba4e\">菲狄亞斯</font> (Phidias, c. 480–430 BC, Greece)→ Ancient Greek sculptor and designer of the Parthenon's visuals.|<font color=\"#4881ea\">William Morris</font> (1834-1896)English designer and social activist whose philosophy that beautiful, functional design should be accessible to all aligns perfectly with modern UI/UX design principles.|<font color=\"#c969c9\"></font>|<font color=\"#4fe34f\"></font>|<font color=\"#ff8533\">Marcus Vitruvius Pollio</font> (Rome, ~80 BC - 15 BC): His \"De architectura\" emphasized usability and aesthetics in design.|\n",
    "|<font color=\"85adad\">23: 前端工程師(front-end engineer)|<font color=\"#e4ba4e\">米開朗基羅</font> (Michelangelo, 1475–1564, Italy)→ Created visually stunning art, akin to front-end development.|<font color=\"#4881ea\">Johannes Gutenberg</font>(c. 1400-1468)German inventor of the printing press whose innovations in making information more accessible and visually consistent mirror front-end engineers' work.|<font color=\"#c969c9\"></font>|<font color=\"#4fe34f\"></font>|<font color=\"#ff8533\">Praxiteles</font> (Greece, ~400 BC - 330 BC), he was a master sculptor, who focused on the aesthetic presentation of his work.|\n",
    "|<font color=\"85adad\">24: 後端工程師(back-end engineer)|<font color=\"#e4ba4e\">魯班</font> (c. 507–444 BC, China)→ Focused on practical structures, like the hidden mechanics of a back-end.|<font color=\"#4881ea\">James Watt</font> (1736-1819)Scottish inventor who improved the steam engine's efficiency, paralleling how back-end engineers optimize the \"engines\" that power systems.|<font color=\"#c969c9\"></font>|<font color=\"#4fe34f\"></font>|<font color=\"#ff8533\">Diophantus</font> (Egypt, ~201 AD - 285 AD), his work with algebraic equations, and number theory, display the kind of background work that a backend engineer does.|\n",
    "|<font color=\"85adad\">25: 全端工程師(full stack engineer)|<font color=\"#e4ba4e\">艾薩克·牛頓</font> (Isaac Newton, 1643–1727, England)→ Excelled in multiple disciplines, much like full-stack engineers.|<font color=\"#4881ea\">諸葛亮</font> (181-234)Chinese strategist, statesman, and inventor whose mastery across multiple domains—from military strategy to mechanical inventions to governance—reflects the comprehensive capabilities of full-stack engineers.|<font color=\"#c969c9\"></font>|<font color=\"#4fe34f\"></font>|<font color=\"#ff8533\">Eratosthenes</font> (Greece, ~276 BC - 194 BC): His contributions to geography, mathematics, and astronomy demonstrate a wide range of skills.|\n",
    "|<font color=\"#CEDCC6\">H) 後勤、業務與服務|\n",
    "|<font color=\"85adad\">26: 技術寫作人員(technical writer)|<font color=\"#e4ba4e\">奧古斯丁</font> (Augustine of Hippo, 354–430, Algeria/Rome)→ His logical writings resemble technical documentation.|<font color=\"#4881ea\">Euclid</font> (c. 325-265 BCE)Greek mathematician whose work \"Elements\" exemplifies clear, logical presentation of complex technical concepts through excellent documentation.|<font color=\"#c969c9\"></font>|<font color=\"#4fe34f\"></font>|<font color=\"#ff8533\">Aristotle</font> (Greece, 384 BC - 322 BC): His systematic treatises on various subjects set a standard for technical writing.|\n",
    "|<font color=\"85adad\">27: 業務經理(sales manager)|<font color=\"#e4ba4e\">喬賽亞·威奇伍德</font> (Josiah Wedgwood, 1730–1795, England)→ Industrialist who revolutionized marketing.|<font color=\"#4881ea\">范蠡</font> (c. 536-448 BCE)Chinese businessman and strategist who succeeded in both politics and commerce, demonstrating the market understanding and relationship-building central to sales management.|<font color=\"#c969c9\"></font>|<font color=\"#4fe34f\"></font>|<font color=\"#ff8533\">Marco Polo</font> (Italy, 1254–1324): His ability to establish trade relations and promote goods across vast distances.|\n",
    "|<font color=\"85adad\">28: 教育訓練工程師(training instructor)|<font color=\"#e4ba4e\">孔子</font> (c. 551–479 BC, China)→ The ultimate teacher.|<font color=\"#4881ea\">Socrates</font> (c. 470-399 BCE)Greek philosopher whose teaching method of questioning and critical thinking remains influential in education and professional training methodologies.|<font color=\"#c969c9\"></font>|<font color=\"#4fe34f\"></font>|<font color=\"#ff8533\">孔子</font> (China, 551 BC - 479 BC): His educational philosophy and methods have influenced teaching for millennia.|\n",
    "|<font color=\"85adad\">29: 溝通協調工程師(bridge system engineer)|<font color=\"#e4ba4e\">Marco Polo</font> (1254–1324, Italy)→ Bridged Eastern and Western knowledge.|<font color=\"#4881ea\">Marco Polo</font> (1254-1324)Italian merchant and explorer who facilitated cultural and technological exchange between East and West, mirroring the bridge engineer's role in connecting different technical systems and teams.|<font color=\"#c969c9\"></font>|<font color=\"#4fe34f\"></font>|<font color=\"#ff8533\">Cicero</font> (Rome, 106 BC - 43 BC): His oratory and diplomatic skills are examples of effective communication and coordination.|\n",
    "|<font color=\"85adad\">30: 客服工程師(customer service engineer)|<font color=\"#e4ba4e\">包拯</font> (999–1062, China)→ Ensured justice for people, much like customer service.|<font color=\"#4881ea\">Marcus Tullius Cicero</font> (106-43 BCE)Roman statesman and orator who developed principles of rhetoric and persuasion focused on understanding and addressing audience needs, similar to how customer service engineers must understand and resolve user issues.|<font color=\"#c969c9\"></font>|<font color=\"#4fe34f\"></font>|<font color=\"#ff8533\">Hippocrates</font> (Greece, ~460 BC - 370 BC): His emphasis on patient care and ethical practice is analogous to customer service.|"
   ]
  },
  {
   "cell_type": "code",
   "execution_count": null,
   "metadata": {},
   "outputs": [
    {
     "name": "stdout",
     "output_type": "stream",
     "text": [
      "('a', 'x', 'l', 'e')\n"
     ]
    }
   ],
   "source": [
    "# Quiz\n",
    "x, e, a, l = 'alex'\n",
    "# a, l, e, x = 'alex'\n",
    "a, x = x, a\n",
    "alex = a, l, e, x\n",
    "print(alex)\n",
    "\n",
    "# A) ('a', 'l', 'e', 'x')\n",
    "# B) ('l', 'a', 'e', 'x')\n",
    "# C) ('e', 'x', 'l', 'a')\n",
    "# D) ('x', 'l', 'e', 'a')\n",
    "# E) 'axle'\n",
    "# F) 以上皆非\n"
   ]
  },
  {
   "cell_type": "code",
   "execution_count": 14,
   "metadata": {},
   "outputs": [
    {
     "name": "stdout",
     "output_type": "stream",
     "text": [
      "\n",
      "Dear User,\n",
      "Your subscription is expiring soon.\n",
      "Please renew before the due date.\n",
      "Thank you,\n",
      "The Support Team\n",
      "    \n"
     ]
    }
   ],
   "source": [
    "def generate_email():\n",
    "    return \"\"\"\n",
    "    \\rDear User,\n",
    "    \\rYour subscription is expiring soon.\n",
    "    \\rPlease renew before the due date.\n",
    "    \\rThank you,\n",
    "    \\rThe Support Team\n",
    "    \"\"\"\n",
    "\n",
    "print(generate_email())"
   ]
  },
  {
   "cell_type": "code",
   "execution_count": 13,
   "metadata": {},
   "outputs": [
    {
     "name": "stdout",
     "output_type": "stream",
     "text": [
      "Dear User,\n",
      "Your subscription is expiring soon.\n",
      "Please renew before the due date.\n",
      "Thank you,\n",
      "The Support Team\n"
     ]
    }
   ],
   "source": [
    "def generate_email():\n",
    "    return (\"Dear User,\\n\"\n",
    "    \"Your subscription is expiring soon.\\n\"\n",
    "    \"Please renew before the due date.\\n\"\n",
    "    \"Thank you,\\n\"\n",
    "    \"The Support Team\" )\n",
    "print(generate_email())"
   ]
  }
 ],
 "metadata": {
  "kernelspec": {
   "display_name": "Python 3",
   "language": "python",
   "name": "python3"
  },
  "language_info": {
   "codemirror_mode": {
    "name": "ipython",
    "version": 3
   },
   "file_extension": ".py",
   "mimetype": "text/x-python",
   "name": "python",
   "nbconvert_exporter": "python",
   "pygments_lexer": "ipython3",
   "version": "3.13.2"
  }
 },
 "nbformat": 4,
 "nbformat_minor": 2
}
